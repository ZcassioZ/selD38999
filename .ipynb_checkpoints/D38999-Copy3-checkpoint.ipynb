{
 "cells": [
  {
   "cell_type": "code",
   "execution_count": 1,
   "metadata": {},
   "outputs": [],
   "source": [
    "#df_arranjosra Bibliotecas\n",
    "import pandas as pd\n",
    "import math"
   ]
  },
  {
   "cell_type": "code",
   "execution_count": 2,
   "metadata": {},
   "outputs": [],
   "source": [
    "#Leitura parametros Iniciais\n",
    "df_arranjos = pd.read_csv('D38999_arranjos.csv', ';')\n",
    "df_crimp = pd.read_csv('D38999_crimp.csv', ';')"
   ]
  },
  {
   "cell_type": "code",
   "execution_count": 79,
   "metadata": {},
   "outputs": [],
   "source": [
    "# Funções\n",
    "# trataDF - Isola da menor bitola para maior\n",
    "def trataDF(df):\n",
    "    trata_df = df\n",
    "    trata_df['22D'] = trata_df['#28'] + trata_df['#26'] + trata_df['#24'] + trata_df['#22']\n",
    "    trata_df['#28'] = 0\n",
    "    trata_df['#26'] = 0\n",
    "    trata_df['#24'] = 0\n",
    "    trata_df['#22'] = 0\n",
    "    trata_df['20'] = trata_df['#20']\n",
    "    trata_df['#20'] = 0\n",
    "    trata_df['16'] = trata_df['#18'] + trata_df['#16']\n",
    "    trata_df['12'] = trata_df['#14'] + trata_df['#12']\n",
    "    trata_df = trata_df.drop(columns=['#28', '#26', '#24', '#22', '#20', '#18', '#16', '#14', '#12'])\n",
    "    return trata_df\n",
    "\n",
    "#Isola emissividade em lista recebendo um dataframe da interface\n",
    "def isolaEmissividade(df_interface):\n",
    "    emi = []\n",
    "    emi_t =[['Emissividade', '#28', '#26', '#24','#22','#20','#18','#16','#14','#12']]\n",
    "    for i in (df_interface['Emissividade'].unique()):\n",
    "        emi = []\n",
    "        emi.append(i)\n",
    "        emi.append(df_interface.loc[df_interface['Emissividade'] == i, '#28'].sum())\n",
    "        emi.append(df_interface.loc[df_interface['Emissividade'] == i, '#26'].sum())\n",
    "        emi.append(df_interface.loc[df_interface['Emissividade'] == i, '#24'].sum())\n",
    "        emi.append(df_interface.loc[df_interface['Emissividade'] == i, '#22'].sum())\n",
    "        emi.append(df_interface.loc[df_interface['Emissividade'] == i, '#20'].sum())\n",
    "        emi.append(df_interface.loc[df_interface['Emissividade'] == i, '#18'].sum())\n",
    "        emi.append(df_interface.loc[df_interface['Emissividade'] == i, '#16'].sum())\n",
    "        emi.append(df_interface.loc[df_interface['Emissividade'] == i, '#14'].sum())\n",
    "        emi.append(df_interface.loc[df_interface['Emissividade'] == i, '#12'].sum())\n",
    "        emi_t.append(emi)\n",
    "    return emi_t\n",
    "\n",
    "def deletaLinha1(df):\n",
    "    new_header = df.iloc[0] #grab the first row for the header\n",
    "    df = df[1:] #take the data less the header row\n",
    "    df.columns = new_header\n",
    "    return df"
   ]
  },
  {
   "cell_type": "code",
   "execution_count": 80,
   "metadata": {},
   "outputs": [
    {
     "data": {
      "text/html": [
       "<div>\n",
       "<style scoped>\n",
       "    .dataframe tbody tr th:only-of-type {\n",
       "        vertical-align: middle;\n",
       "    }\n",
       "\n",
       "    .dataframe tbody tr th {\n",
       "        vertical-align: top;\n",
       "    }\n",
       "\n",
       "    .dataframe thead th {\n",
       "        text-align: right;\n",
       "    }\n",
       "</style>\n",
       "<table border=\"1\" class=\"dataframe\">\n",
       "  <thead>\n",
       "    <tr style=\"text-align: right;\">\n",
       "      <th></th>\n",
       "      <th>Emissividade</th>\n",
       "      <th>22D</th>\n",
       "      <th>20</th>\n",
       "      <th>16</th>\n",
       "      <th>12</th>\n",
       "    </tr>\n",
       "  </thead>\n",
       "  <tbody>\n",
       "    <tr>\n",
       "      <th>1</th>\n",
       "      <td>A</td>\n",
       "      <td>315</td>\n",
       "      <td>5</td>\n",
       "      <td>8</td>\n",
       "      <td>2</td>\n",
       "    </tr>\n",
       "    <tr>\n",
       "      <th>2</th>\n",
       "      <td>S</td>\n",
       "      <td>4</td>\n",
       "      <td>5</td>\n",
       "      <td>0</td>\n",
       "      <td>0</td>\n",
       "    </tr>\n",
       "  </tbody>\n",
       "</table>\n",
       "</div>"
      ],
      "text/plain": [
       "0 Emissividade  22D 20 16 12\n",
       "1            A  315  5  8  2\n",
       "2            S    4  5  0  0"
      ]
     },
     "execution_count": 80,
     "metadata": {},
     "output_type": "execute_result"
    }
   ],
   "source": [
    "#Leitura Interface\n",
    "df_interface = pd.read_csv('D38999_interface.csv', ';')\n",
    "\n",
    "# Cria dataframe com emissividades com bitolas por emissividades isoladas\n",
    "df = pd.DataFrame(isolaEmissividade(df_interface))\n",
    "\n",
    "#Deleta primeira linha do dataframe\n",
    "df = deletaLinha1(df)\n",
    "\n",
    "#Isola bitolas em grupos\n",
    "trata_df = trataDF(df)\n",
    "trata_df.head()"
   ]
  },
  {
   "cell_type": "code",
   "execution_count": 116,
   "metadata": {},
   "outputs": [
    {
     "data": {
      "text/plain": [
       "5"
      ]
     },
     "execution_count": 116,
     "metadata": {},
     "output_type": "execute_result"
    }
   ],
   "source": [
    "#Classes\n",
    "\n",
    "class preparaProcura:\n",
    "    def __init__(self, trata_df):\n",
    "        #Encontra Dataframe\n",
    "        df_encontrado = pd.DataFrame(columns = ['Código', '22D','20','16','12','12(Coax)','8(coax)','8(Twinax)'])\n",
    "        self.df_encontrado = df_encontrado\n",
    "        \n",
    "        # Lista os arranjos encontrados\n",
    "        lista_arranjo = trata_df.values.tolist()\n",
    "        self.listaArranjo = lista_arranjo\n",
    "        \n",
    "        #Compila os valores\n",
    "        \n",
    "        lista_total =[]\n",
    "        lista_total = [['Emissividade', 'Bitola', 'Arranjo']]\n",
    "        self.listaTotal = lista_total\n",
    "        \n",
    "        #Inicia busca\n",
    "        self.tes = 0\n",
    "        \n",
    "    def incrementa(self):\n",
    "        self.tes = self.tes + 1\n",
    "        \n",
    "    def zeraTes():\n",
    "        self.tes = 0\n",
    "\n",
    "class trataBitola:\n",
    "    def __init__(self, bitola):\n",
    "        if bitola == 22:\n",
    "            self.bit = '22D'\n",
    "            self.emis = 1\n",
    "        if bitola == 20:\n",
    "            self.bit = '20'\n",
    "            self.emis = 2\n",
    "        if bitola == 16:\n",
    "            self.bit = '16'\n",
    "            self.emis = 3 \n",
    "        if bitola == 12:\n",
    "            self.bit = '12'\n",
    "            self.emis = 4        \n",
    "        \n",
    "        \n",
    "timao = preparaProcura(trata_df)\n",
    "len(timao.listaArranjo[0])\n"
   ]
  },
  {
   "cell_type": "code",
   "execution_count": 117,
   "metadata": {},
   "outputs": [
    {
     "data": {
      "text/html": [
       "<div>\n",
       "<style scoped>\n",
       "    .dataframe tbody tr th:only-of-type {\n",
       "        vertical-align: middle;\n",
       "    }\n",
       "\n",
       "    .dataframe tbody tr th {\n",
       "        vertical-align: top;\n",
       "    }\n",
       "\n",
       "    .dataframe thead th {\n",
       "        text-align: right;\n",
       "    }\n",
       "</style>\n",
       "<table border=\"1\" class=\"dataframe\">\n",
       "  <thead>\n",
       "    <tr style=\"text-align: right;\">\n",
       "      <th></th>\n",
       "      <th>0</th>\n",
       "      <th>1</th>\n",
       "      <th>2</th>\n",
       "    </tr>\n",
       "  </thead>\n",
       "  <tbody>\n",
       "    <tr>\n",
       "      <th>0</th>\n",
       "      <td>Emissividade</td>\n",
       "      <td>Bitola</td>\n",
       "      <td>Arranjo</td>\n",
       "    </tr>\n",
       "    <tr>\n",
       "      <th>1</th>\n",
       "      <td>A</td>\n",
       "      <td>22D</td>\n",
       "      <td>128</td>\n",
       "    </tr>\n",
       "    <tr>\n",
       "      <th>2</th>\n",
       "      <td>A</td>\n",
       "      <td>22D</td>\n",
       "      <td>128</td>\n",
       "    </tr>\n",
       "    <tr>\n",
       "      <th>3</th>\n",
       "      <td>A</td>\n",
       "      <td>22D</td>\n",
       "      <td>F35</td>\n",
       "    </tr>\n",
       "    <tr>\n",
       "      <th>4</th>\n",
       "      <td>S</td>\n",
       "      <td>22D</td>\n",
       "      <td>B54</td>\n",
       "    </tr>\n",
       "  </tbody>\n",
       "</table>\n",
       "</div>"
      ],
      "text/plain": [
       "              0       1        2\n",
       "0  Emissividade  Bitola  Arranjo\n",
       "1             A     22D      128\n",
       "2             A     22D      128\n",
       "3             A     22D      F35\n",
       "4             S     22D      B54"
      ]
     },
     "execution_count": 117,
     "metadata": {},
     "output_type": "execute_result"
    }
   ],
   "source": [
    "prepP = preparaProcura(trata_df)\n",
    "prepP.tes = 0\n",
    "precA = procuraArranjo\n",
    "\n",
    "df_encontrado = pd.DataFrame(columns = ['Código', '22D','20','16','12','12(Coax)','8(coax)','8(Twinax)'])\n",
    "for i in prepP.listaArranjo:\n",
    "    \n",
    "    \n",
    "    bit = trataBitola(22)\n",
    "    #Caso seja insuficiente o número de conexões para está bitola, a quantidade necessária de conectores maiores\n",
    "    if (prepP.listaArranjo[prepP.tes][bit.emis]) > df_arranjos[bit.bit].max():\n",
    "        trataArranjo = math.ceil((prepP.listaArranjo[prepP.tes][1])/df_arranjos[bit.bit].max())\n",
    "        for i in range(trataArranjo-1):\n",
    "            df_encontrado = df_arranjos.loc[df_arranjos[bit.bit] == (df_arranjos[bit.bit].max())]\n",
    "            merda = df_encontrado[bit.bit].values.tolist()\n",
    "            prepP.listaTotal.append([prepP.listaArranjo[prepP.tes][0],bit.bit, merda[0]])\n",
    "            prepP.listaArranjo[prepP.tes][bit.emis] = prepP.listaArranjo[prepP.tes][bit.emis] - df_arranjos[bit.bit].max()\n",
    "    \n",
    "    #Trata valores em caso ser menor que 1 conector \n",
    "    if (prepP.listaArranjo[prepP.tes][bit.emis]) !=0: # Acho que tinha essa bitola? Achou errado, caro otário\n",
    "        df_encontrado = df_arranjos.loc[df_arranjos[bit.bit] == (prepP.listaArranjo[prepP.tes][bit.emis])]\n",
    "        for i in range(df_arranjos[bit.bit].max()): #Procura até a ultima configuração possível para está bitola\n",
    "            if (df_encontrado.empty): # Se não encontrou, itera para um valor acima\n",
    "                prepP.listaArranjo[prepP.tes][bit.emis] = prepP.listaArranjo[prepP.tes][bit.emis] + 1;\n",
    "                df_encontrado = df_arranjos.loc[df_arranjos[bit.bit] == (prepP.listaArranjo[prepP.tes][bit.emis])]\n",
    "                \n",
    "                #Separa se pode estar junto a outras bitolas ou não\n",
    "                trataArranjo = df_encontrado.values.tolist()\n",
    "                if not df_encontrado.empty:\n",
    "                    if (trataArranjo[0][4] >0) or (trataArranjo[0][5] >0) or (trataArranjo[0][6] >0) or (trataArranjo[0][7] >0):\n",
    "                        prepP.listaArranjo[prepP.tes][bit.emis] = prepP.listaArranjo[prepP.tes][bit.emis] + 1;\n",
    "                        df_encontrado = df_encontrado.iloc[0:0]\n",
    "        \n",
    "        # Adiciona a lista a bitola selecionada\n",
    "        if not df_encontrado.empty:\n",
    "            merda = df_encontrado['Código'].values.tolist()\n",
    "            prepP.listaArranjo[prepP.tes].append(merda[0])\n",
    "            prepP.listaTotal.append([prepP.listaArranjo[prepP.tes][0],bit.bit, merda[0]])   \n",
    "        \n",
    "    prepP.tes = prepP.tes + 1\n",
    "\n",
    "pd.DataFrame(prepP.listaTotal)"
   ]
  },
  {
   "cell_type": "code",
   "execution_count": 96,
   "metadata": {},
   "outputs": [
    {
     "data": {
      "text/plain": [
       "4"
      ]
     },
     "execution_count": 96,
     "metadata": {},
     "output_type": "execute_result"
    }
   ],
   "source": [
    "    #Caso seja insuficiente o número de conexões para está bitola, a quantidade necessária de conectores maiores\n",
    "\n",
    "class encontraArranjo:\n",
    "    def __init__(self,prepP, bit):\n",
    "        \n",
    "    if (prepP.listaArranjo[prepP.tes][bit.emis]) > df_arranjos[bit.bit].max():\n",
    "        trataArranjo = math.ceil((prepP.listaArranjo[prepP.tes][1])/df_arranjos[bit.bit].max())\n",
    "        for i in range(trataArranjo-1):\n",
    "            df_encontrado = df_arranjos.loc[df_arranjos[bit.bit] == (df_arranjos[bit.bit].max())]\n",
    "            merda = df_encontrado[bit.bit].values.tolist()\n",
    "            prepP.listaTotal.append([prepP.listaArranjo[prepP.tes][0],bit.bit, merda[0]])\n",
    "            prepP.listaArranjo[prepP.tes][bit.emis] = prepP.listaArranjo[prepP.tes][bit.emis] - df_arranjos[bit.bit].max()\n",
    "    \n",
    "    #Trata valores em caso ser menor que 1 conector \n",
    "    if (prepP.listaArranjo[prepP.tes][bit.emis]) !=0: # Acho que tinha essa bitola? Achou errado, caro otário\n",
    "        df_encontrado = df_arranjos.loc[df_arranjos[bit.bit] == (prepP.listaArranjo[prepP.tes][bit.emis])]\n",
    "        for i in range(df_arranjos[bit.bit].max()): #Procura até a ultima configuração possível para está bitola\n",
    "            if (df_encontrado.empty): # Se não encontrou, itera para um valor acima\n",
    "                prepP.listaArranjo[prepP.tes][bit.emis] = prepP.listaArranjo[prepP.tes][bit.emis] + 1;\n",
    "                df_encontrado = df_arranjos.loc[df_arranjos[bit.bit] == (prepP.listaArranjo[prepP.tes][bit.emis])]\n",
    "                \n",
    "                #Separa se pode estar junto a outras bitolas ou não\n",
    "                trataArranjo = df_encontrado.values.tolist()\n",
    "                if not df_encontrado.empty:\n",
    "                    if (trataArranjo[0][4] >0) or (trataArranjo[0][5] >0) or (trataArranjo[0][6] >0) or (trataArranjo[0][7] >0):\n",
    "                        prepP.listaArranjo[prepP.tes][bit.emis] = prepP.listaArranjo[prepP.tes][bit.emis] + 1;\n",
    "                        df_encontrado = df_encontrado.iloc[0:0]\n",
    "        \n",
    "        # Adiciona a lista a bitola selecionada\n",
    "        if not df_encontrado.empty:\n",
    "            merda = df_encontrado['Código'].values.tolist()\n",
    "            prepP.listaArranjo[prepP.tes].append(merda[0])\n",
    "            prepP.listaTotal.append([prepP.listaArranjo[prepP.tes][0],bit.bit, merda[0]])  "
   ]
  },
  {
   "cell_type": "markdown",
   "metadata": {},
   "source": [
    "## "
   ]
  },
  {
   "cell_type": "code",
   "execution_count": 64,
   "metadata": {},
   "outputs": [
    {
     "data": {
      "text/plain": [
       "127"
      ]
     },
     "execution_count": 64,
     "metadata": {},
     "output_type": "execute_result"
    }
   ],
   "source": [
    "# Outras funções\n",
    "\n",
    "def insulf(self, lista_arranjo, df_arranjos, df_encontrado, lista_total, bitola)\n",
    "    #Caso seja insuficiente o número de conexões para está bitola, a quantidade necessária de conectores maiores\n",
    "    if bitola = 22:\n",
    "        bit = '22D'\n",
    "    elif\n",
    "        bit = bitola   \n",
    "    if (lista_arranjo[tes][1]) > df_arranjos[bit].max():\n",
    "        trataArranjo = math.ceil((lista_arranjo[tes][1])/df_arranjos[bit].max())\n",
    "        for i in range(trataArranjo-1):\n",
    "            df_encontrado = df_arranjos.loc[df_arranjos['22D'] == (df_arranjos[bit].max())]\n",
    "            merda = df_encontrado['Código'].values.tolist()\n",
    "            lista_total.append([lista_arranjo[tes][0],bit, merda[0]])\n",
    "            lista_arranjo[tes][1] = lista_arranjo[tes][1] - df_arranjos[bit].max()\n",
    "    \n",
    "    #Trata valores em caso ser menor que 1 conector \n",
    "    if (lista_arranjo[tes][1]) !=0: # Acho que tinha essa bitola? Achou errado, caro otário\n",
    "        df_encontrado = df_arranjos.loc[df_arranjos[bit] == (lista_arranjo[tes][1])]\n",
    "        for i in range(df_arranjos[bit].max()): #Procura até a ultima configuração possível para está bitola\n",
    "            if (df_encontrado.empty): # Se não encontrou, itera para um valor acima\n",
    "                lista_arranjo[tes][1] = lista_arranjo[tes][1] + 1;\n",
    "                df_encontrado = df_arranjos.loc[df_arranjos[bit] == (lista_arranjo[tes][1])]\n",
    "                \n",
    "                #Separa se pode estar junto a outras bitolas ou não\n",
    "                trataArranjo = df_encontrado.values.tolist()\n",
    "                if not df_encontrado.empty:\n",
    "                    if (trataArranjo[0][4] >0) or (trataArranjo[0][5] >0) or (trataArranjo[0][6] >0) or (trataArranjo[0][7] >0):\n",
    "                        lista_arranjo[tes][1] = lista_arranjo[tes][1] + 1;\n",
    "                        df_encontrado = df_encontrado.iloc[0:0]"
   ]
  },
  {
   "cell_type": "code",
   "execution_count": 1,
   "metadata": {},
   "outputs": [
    {
     "ename": "NameError",
     "evalue": "name 'df_arranjos' is not defined",
     "output_type": "error",
     "traceback": [
      "\u001b[1;31m---------------------------------------------------------------------------\u001b[0m",
      "\u001b[1;31mNameError\u001b[0m                                 Traceback (most recent call last)",
      "\u001b[1;32m<ipython-input-1-c5e5be50797f>\u001b[0m in \u001b[0;36m<module>\u001b[1;34m\u001b[0m\n\u001b[0;32m      1\u001b[0m \u001b[1;31m# Consulta rápida para todos arranjos de uma bitola\u001b[0m\u001b[1;33m\u001b[0m\u001b[1;33m\u001b[0m\u001b[1;33m\u001b[0m\u001b[0m\n\u001b[1;32m----> 2\u001b[1;33m \u001b[0mdf_encontrado\u001b[0m \u001b[1;33m=\u001b[0m \u001b[0mdf_arranjos\u001b[0m\u001b[1;33m.\u001b[0m\u001b[0mloc\u001b[0m\u001b[1;33m[\u001b[0m\u001b[0mdf_arranjos\u001b[0m\u001b[1;33m[\u001b[0m\u001b[1;34m'22D'\u001b[0m\u001b[1;33m]\u001b[0m \u001b[1;33m>=\u001b[0m \u001b[1;36m10\u001b[0m\u001b[1;33m]\u001b[0m\u001b[1;33m\u001b[0m\u001b[1;33m\u001b[0m\u001b[0m\n\u001b[0m\u001b[0;32m      3\u001b[0m \u001b[0mdf_encontrado\u001b[0m\u001b[1;33m\u001b[0m\u001b[1;33m\u001b[0m\u001b[0m\n",
      "\u001b[1;31mNameError\u001b[0m: name 'df_arranjos' is not defined"
     ]
    }
   ],
   "source": [
    "# Consulta rápida para todos arranjos de uma bitola\n",
    "df_encontrado = df_arranjos.loc[df_arranjos['22D'] >= 10]\n",
    "df_encontrado"
   ]
  },
  {
   "cell_type": "code",
   "execution_count": 13,
   "metadata": {},
   "outputs": [],
   "source": []
  },
  {
   "cell_type": "markdown",
   "metadata": {},
   "source": [
    "## math.ceil(200/df_arranjos['22D'].max())"
   ]
  },
  {
   "cell_type": "code",
   "execution_count": null,
   "metadata": {},
   "outputs": [],
   "source": []
  },
  {
   "cell_type": "code",
   "execution_count": null,
   "metadata": {},
   "outputs": [],
   "source": []
  }
 ],
 "metadata": {
  "kernelspec": {
   "display_name": "Python 3",
   "language": "python",
   "name": "python3"
  },
  "language_info": {
   "codemirror_mode": {
    "name": "ipython",
    "version": 3
   },
   "file_extension": ".py",
   "mimetype": "text/x-python",
   "name": "python",
   "nbconvert_exporter": "python",
   "pygments_lexer": "ipython3",
   "version": "3.7.4"
  }
 },
 "nbformat": 4,
 "nbformat_minor": 4
}
